{
 "cells": [
  {
   "cell_type": "markdown",
   "id": "695b52d6",
   "metadata": {},
   "source": [
    "# **Taller 03: series de Taylor y polinomios de Lagrange**\n",
    "\n",
    "Grafique las curvas de las series de Taylor de varios órdenes para los siguientes casos:"
   ]
  },
  {
   "cell_type": "markdown",
   "id": "af5c2c8a",
   "metadata": {},
   "source": []
  }
 ],
 "metadata": {
  "language_info": {
   "name": "python"
  }
 },
 "nbformat": 4,
 "nbformat_minor": 5
}
